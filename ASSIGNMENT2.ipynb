{
 "cells": [
  {
   "cell_type": "code",
   "execution_count": 38,
   "id": "1d9ce063-6954-466e-a413-6d30bfa9302b",
   "metadata": {},
   "outputs": [],
   "source": [
    "import pandas as pd\n",
    "import matplotlib.pyplot as plt\n",
    "import numpy as np\n"
   ]
  },
  {
   "cell_type": "code",
   "execution_count": 26,
   "id": "9658bc51-ed6b-4567-b876-dc1486607e25",
   "metadata": {},
   "outputs": [
    {
     "data": {
      "text/html": [
       "<div>\n",
       "<style scoped>\n",
       "    .dataframe tbody tr th:only-of-type {\n",
       "        vertical-align: middle;\n",
       "    }\n",
       "\n",
       "    .dataframe tbody tr th {\n",
       "        vertical-align: top;\n",
       "    }\n",
       "\n",
       "    .dataframe thead th {\n",
       "        text-align: right;\n",
       "    }\n",
       "</style>\n",
       "<table border=\"1\" class=\"dataframe\">\n",
       "  <thead>\n",
       "    <tr style=\"text-align: right;\">\n",
       "      <th></th>\n",
       "      <th>Unnamed: 0</th>\n",
       "      <th>age</th>\n",
       "      <th>gender</th>\n",
       "      <th>year_in_school</th>\n",
       "      <th>major</th>\n",
       "      <th>monthly_income</th>\n",
       "      <th>financial_aid</th>\n",
       "      <th>tuition</th>\n",
       "      <th>housing</th>\n",
       "      <th>food</th>\n",
       "      <th>transportation</th>\n",
       "      <th>books_supplies</th>\n",
       "      <th>entertainment</th>\n",
       "      <th>personal_care</th>\n",
       "      <th>technology</th>\n",
       "      <th>health_wellness</th>\n",
       "      <th>miscellaneous</th>\n",
       "      <th>preferred_payment_method</th>\n",
       "    </tr>\n",
       "  </thead>\n",
       "  <tbody>\n",
       "    <tr>\n",
       "      <th>0</th>\n",
       "      <td>0</td>\n",
       "      <td>19</td>\n",
       "      <td>Non-binary</td>\n",
       "      <td>Freshman</td>\n",
       "      <td>Psychology</td>\n",
       "      <td>958</td>\n",
       "      <td>270</td>\n",
       "      <td>5939</td>\n",
       "      <td>709</td>\n",
       "      <td>296</td>\n",
       "      <td>123</td>\n",
       "      <td>188</td>\n",
       "      <td>41</td>\n",
       "      <td>78</td>\n",
       "      <td>134</td>\n",
       "      <td>127</td>\n",
       "      <td>72</td>\n",
       "      <td>Credit/Debit Card</td>\n",
       "    </tr>\n",
       "    <tr>\n",
       "      <th>1</th>\n",
       "      <td>1</td>\n",
       "      <td>24</td>\n",
       "      <td>Female</td>\n",
       "      <td>Junior</td>\n",
       "      <td>Economics</td>\n",
       "      <td>1006</td>\n",
       "      <td>875</td>\n",
       "      <td>4908</td>\n",
       "      <td>557</td>\n",
       "      <td>365</td>\n",
       "      <td>85</td>\n",
       "      <td>252</td>\n",
       "      <td>74</td>\n",
       "      <td>92</td>\n",
       "      <td>226</td>\n",
       "      <td>129</td>\n",
       "      <td>68</td>\n",
       "      <td>Credit/Debit Card</td>\n",
       "    </tr>\n",
       "    <tr>\n",
       "      <th>2</th>\n",
       "      <td>2</td>\n",
       "      <td>24</td>\n",
       "      <td>Non-binary</td>\n",
       "      <td>Junior</td>\n",
       "      <td>Economics</td>\n",
       "      <td>734</td>\n",
       "      <td>928</td>\n",
       "      <td>3051</td>\n",
       "      <td>666</td>\n",
       "      <td>220</td>\n",
       "      <td>137</td>\n",
       "      <td>99</td>\n",
       "      <td>130</td>\n",
       "      <td>23</td>\n",
       "      <td>239</td>\n",
       "      <td>112</td>\n",
       "      <td>133</td>\n",
       "      <td>Cash</td>\n",
       "    </tr>\n",
       "    <tr>\n",
       "      <th>3</th>\n",
       "      <td>3</td>\n",
       "      <td>23</td>\n",
       "      <td>Female</td>\n",
       "      <td>Senior</td>\n",
       "      <td>Computer Science</td>\n",
       "      <td>617</td>\n",
       "      <td>265</td>\n",
       "      <td>4935</td>\n",
       "      <td>652</td>\n",
       "      <td>289</td>\n",
       "      <td>114</td>\n",
       "      <td>223</td>\n",
       "      <td>99</td>\n",
       "      <td>30</td>\n",
       "      <td>163</td>\n",
       "      <td>105</td>\n",
       "      <td>55</td>\n",
       "      <td>Mobile Payment App</td>\n",
       "    </tr>\n",
       "    <tr>\n",
       "      <th>4</th>\n",
       "      <td>4</td>\n",
       "      <td>20</td>\n",
       "      <td>Female</td>\n",
       "      <td>Senior</td>\n",
       "      <td>Computer Science</td>\n",
       "      <td>810</td>\n",
       "      <td>522</td>\n",
       "      <td>3887</td>\n",
       "      <td>825</td>\n",
       "      <td>372</td>\n",
       "      <td>168</td>\n",
       "      <td>194</td>\n",
       "      <td>48</td>\n",
       "      <td>71</td>\n",
       "      <td>88</td>\n",
       "      <td>71</td>\n",
       "      <td>104</td>\n",
       "      <td>Credit/Debit Card</td>\n",
       "    </tr>\n",
       "    <tr>\n",
       "      <th>...</th>\n",
       "      <td>...</td>\n",
       "      <td>...</td>\n",
       "      <td>...</td>\n",
       "      <td>...</td>\n",
       "      <td>...</td>\n",
       "      <td>...</td>\n",
       "      <td>...</td>\n",
       "      <td>...</td>\n",
       "      <td>...</td>\n",
       "      <td>...</td>\n",
       "      <td>...</td>\n",
       "      <td>...</td>\n",
       "      <td>...</td>\n",
       "      <td>...</td>\n",
       "      <td>...</td>\n",
       "      <td>...</td>\n",
       "      <td>...</td>\n",
       "      <td>...</td>\n",
       "    </tr>\n",
       "    <tr>\n",
       "      <th>995</th>\n",
       "      <td>995</td>\n",
       "      <td>22</td>\n",
       "      <td>Female</td>\n",
       "      <td>Senior</td>\n",
       "      <td>Biology</td>\n",
       "      <td>1346</td>\n",
       "      <td>520</td>\n",
       "      <td>3688</td>\n",
       "      <td>969</td>\n",
       "      <td>152</td>\n",
       "      <td>194</td>\n",
       "      <td>151</td>\n",
       "      <td>42</td>\n",
       "      <td>38</td>\n",
       "      <td>252</td>\n",
       "      <td>65</td>\n",
       "      <td>163</td>\n",
       "      <td>Cash</td>\n",
       "    </tr>\n",
       "    <tr>\n",
       "      <th>996</th>\n",
       "      <td>996</td>\n",
       "      <td>19</td>\n",
       "      <td>Female</td>\n",
       "      <td>Senior</td>\n",
       "      <td>Biology</td>\n",
       "      <td>1407</td>\n",
       "      <td>560</td>\n",
       "      <td>3380</td>\n",
       "      <td>508</td>\n",
       "      <td>265</td>\n",
       "      <td>52</td>\n",
       "      <td>206</td>\n",
       "      <td>40</td>\n",
       "      <td>98</td>\n",
       "      <td>274</td>\n",
       "      <td>84</td>\n",
       "      <td>135</td>\n",
       "      <td>Mobile Payment App</td>\n",
       "    </tr>\n",
       "    <tr>\n",
       "      <th>997</th>\n",
       "      <td>997</td>\n",
       "      <td>20</td>\n",
       "      <td>Male</td>\n",
       "      <td>Junior</td>\n",
       "      <td>Economics</td>\n",
       "      <td>957</td>\n",
       "      <td>393</td>\n",
       "      <td>3497</td>\n",
       "      <td>723</td>\n",
       "      <td>339</td>\n",
       "      <td>139</td>\n",
       "      <td>69</td>\n",
       "      <td>112</td>\n",
       "      <td>46</td>\n",
       "      <td>284</td>\n",
       "      <td>57</td>\n",
       "      <td>28</td>\n",
       "      <td>Mobile Payment App</td>\n",
       "    </tr>\n",
       "    <tr>\n",
       "      <th>998</th>\n",
       "      <td>998</td>\n",
       "      <td>22</td>\n",
       "      <td>Non-binary</td>\n",
       "      <td>Senior</td>\n",
       "      <td>Economics</td>\n",
       "      <td>1174</td>\n",
       "      <td>612</td>\n",
       "      <td>3649</td>\n",
       "      <td>543</td>\n",
       "      <td>237</td>\n",
       "      <td>123</td>\n",
       "      <td>200</td>\n",
       "      <td>129</td>\n",
       "      <td>90</td>\n",
       "      <td>190</td>\n",
       "      <td>101</td>\n",
       "      <td>65</td>\n",
       "      <td>Mobile Payment App</td>\n",
       "    </tr>\n",
       "    <tr>\n",
       "      <th>999</th>\n",
       "      <td>999</td>\n",
       "      <td>24</td>\n",
       "      <td>Non-binary</td>\n",
       "      <td>Sophomore</td>\n",
       "      <td>Computer Science</td>\n",
       "      <td>541</td>\n",
       "      <td>640</td>\n",
       "      <td>5965</td>\n",
       "      <td>609</td>\n",
       "      <td>270</td>\n",
       "      <td>191</td>\n",
       "      <td>215</td>\n",
       "      <td>139</td>\n",
       "      <td>43</td>\n",
       "      <td>281</td>\n",
       "      <td>88</td>\n",
       "      <td>145</td>\n",
       "      <td>Cash</td>\n",
       "    </tr>\n",
       "  </tbody>\n",
       "</table>\n",
       "<p>1000 rows × 18 columns</p>\n",
       "</div>"
      ],
      "text/plain": [
       "     Unnamed: 0  age      gender year_in_school             major  \\\n",
       "0             0   19  Non-binary       Freshman        Psychology   \n",
       "1             1   24      Female         Junior         Economics   \n",
       "2             2   24  Non-binary         Junior         Economics   \n",
       "3             3   23      Female         Senior  Computer Science   \n",
       "4             4   20      Female         Senior  Computer Science   \n",
       "..          ...  ...         ...            ...               ...   \n",
       "995         995   22      Female         Senior           Biology   \n",
       "996         996   19      Female         Senior           Biology   \n",
       "997         997   20        Male         Junior         Economics   \n",
       "998         998   22  Non-binary         Senior         Economics   \n",
       "999         999   24  Non-binary      Sophomore  Computer Science   \n",
       "\n",
       "     monthly_income  financial_aid  tuition  housing  food  transportation  \\\n",
       "0               958            270     5939      709   296             123   \n",
       "1              1006            875     4908      557   365              85   \n",
       "2               734            928     3051      666   220             137   \n",
       "3               617            265     4935      652   289             114   \n",
       "4               810            522     3887      825   372             168   \n",
       "..              ...            ...      ...      ...   ...             ...   \n",
       "995            1346            520     3688      969   152             194   \n",
       "996            1407            560     3380      508   265              52   \n",
       "997             957            393     3497      723   339             139   \n",
       "998            1174            612     3649      543   237             123   \n",
       "999             541            640     5965      609   270             191   \n",
       "\n",
       "     books_supplies  entertainment  personal_care  technology  \\\n",
       "0               188             41             78         134   \n",
       "1               252             74             92         226   \n",
       "2                99            130             23         239   \n",
       "3               223             99             30         163   \n",
       "4               194             48             71          88   \n",
       "..              ...            ...            ...         ...   \n",
       "995             151             42             38         252   \n",
       "996             206             40             98         274   \n",
       "997              69            112             46         284   \n",
       "998             200            129             90         190   \n",
       "999             215            139             43         281   \n",
       "\n",
       "     health_wellness  miscellaneous preferred_payment_method  \n",
       "0                127             72        Credit/Debit Card  \n",
       "1                129             68        Credit/Debit Card  \n",
       "2                112            133                     Cash  \n",
       "3                105             55       Mobile Payment App  \n",
       "4                 71            104        Credit/Debit Card  \n",
       "..               ...            ...                      ...  \n",
       "995               65            163                     Cash  \n",
       "996               84            135       Mobile Payment App  \n",
       "997               57             28       Mobile Payment App  \n",
       "998              101             65       Mobile Payment App  \n",
       "999               88            145                     Cash  \n",
       "\n",
       "[1000 rows x 18 columns]"
      ]
     },
     "execution_count": 26,
     "metadata": {},
     "output_type": "execute_result"
    }
   ],
   "source": [
    "df = pd.read_csv(\"STUDENTS.csv\" , sep=\",\")\n",
    "df"
   ]
  },
  {
   "cell_type": "markdown",
   "id": "d7f6bc73-f810-4e81-b97a-d2f6b5ee8643",
   "metadata": {},
   "source": [
    "the diagram above shows the first five row of my dataset and the last five rows "
   ]
  },
  {
   "cell_type": "code",
   "execution_count": 45,
   "id": "ee9ff492-8810-425c-83b9-02724cd0ce46",
   "metadata": {},
   "outputs": [
    {
     "name": "stdout",
     "output_type": "stream",
     "text": [
      "median: 22.0\n"
     ]
    }
   ],
   "source": [
    "age_median = df['age'].median()\n",
    "print(\"median:\", age_median)"
   ]
  },
  {
   "cell_type": "code",
   "execution_count": 46,
   "id": "5e1f3590-872d-454f-a643-4a39373c2a81",
   "metadata": {},
   "outputs": [
    {
     "name": "stdout",
     "output_type": "stream",
     "text": [
      "mode: 0    25\n",
      "Name: age, dtype: int64\n"
     ]
    }
   ],
   "source": [
    "age_mode = df['age'].mode()\n",
    "print(\"mode:\", age_mode)"
   ]
  },
  {
   "cell_type": "code",
   "execution_count": 48,
   "id": "c5ab8ebd-b0c9-439e-a6c7-dff2d67c8133",
   "metadata": {},
   "outputs": [
    {
     "name": "stdout",
     "output_type": "stream",
     "text": [
      "range: 7\n"
     ]
    }
   ],
   "source": [
    "age_range = df['age'].max() - df['age'].min()\n",
    "print(\"range:\", age_range)"
   ]
  },
  {
   "cell_type": "code",
   "execution_count": 52,
   "id": "e40ba0c9-54da-4269-b85c-8f675fc96bad",
   "metadata": {},
   "outputs": [
    {
     "name": "stdout",
     "output_type": "stream",
     "text": [
      "mean: 21.675\n"
     ]
    }
   ],
   "source": [
    "colum_sum = df['age'].sum() \n",
    "num_rows = len(df) \n",
    "average = colum_sum/num_rows \n",
    "print(\"mean:\", average)"
   ]
  },
  {
   "cell_type": "markdown",
   "id": "5de57f62-f025-4041-87d4-29e1c39e4170",
   "metadata": {},
   "source": [
    "The median shows that half the students are older than 21, and half the studnets are oldre than 22.The dataset also indicates that most studets that participated were 25 years old. "
   ]
  },
  {
   "cell_type": "code",
   "execution_count": 56,
   "id": "c2e24f85-6fb2-4c7c-b15e-475e643fad27",
   "metadata": {},
   "outputs": [
    {
     "name": "stdout",
     "output_type": "stream",
     "text": [
      "median: 1021.0\n"
     ]
    }
   ],
   "source": [
    "monthly_income_median = df['monthly_income'].median()\n",
    "print(\"median:\", monthly_income_median)"
   ]
  },
  {
   "cell_type": "markdown",
   "id": "ebe12672-3b7d-4e5f-a2ef-45effd321cff",
   "metadata": {},
   "source": [
    "half the students had a monthly income below 1000 and the other half above 1021"
   ]
  },
  {
   "cell_type": "code",
   "execution_count": 59,
   "id": "7a9d9718-c2e7-42bf-9402-31adb4d4e922",
   "metadata": {},
   "outputs": [
    {
     "name": "stdout",
     "output_type": "stream",
     "text": [
      "range: 999\n"
     ]
    }
   ],
   "source": [
    "monthly_income_range = df['monthly_income'].max() - df['monthly_income'].min()\n",
    "print(\"range:\", monthly_income_range)"
   ]
  },
  {
   "cell_type": "markdown",
   "id": "f07cf516-a011-479d-ac9d-6e378bd9be63",
   "metadata": {},
   "source": [
    "This range is quiet hight, which indiactes that a wide disparity between learners. This means some learners are from well off families while some are not. "
   ]
  },
  {
   "cell_type": "code",
   "execution_count": 60,
   "id": "79908ca5-1512-4907-8a84-c9b8ca4065e1",
   "metadata": {},
   "outputs": [
    {
     "name": "stdout",
     "output_type": "stream",
     "text": [
      "mode: 0    1021\n",
      "1    1126\n",
      "2    1176\n",
      "3    1268\n",
      "4    1309\n",
      "5    1354\n",
      "6    1483\n",
      "Name: monthly_income, dtype: int64\n"
     ]
    }
   ],
   "source": [
    "monthly_income_mode= df['monthly_income'].mode()\n",
    "print(\"mode:\", monthly_income_mode)"
   ]
  },
  {
   "cell_type": "markdown",
   "id": "3266b710-cfd0-4cf1-ae81-603d6c53d3f0",
   "metadata": {},
   "source": [
    "The above values appeard the most in the dataset, which indicates the type of financial backgrounds most students are from. "
   ]
  },
  {
   "cell_type": "code",
   "execution_count": 77,
   "id": "6f6f5df3-a7cb-4f37-b97e-62b9123acfeb",
   "metadata": {},
   "outputs": [
    {
     "name": "stdout",
     "output_type": "stream",
     "text": [
      "standard deviation: 293.8411613918781\n"
     ]
    }
   ],
   "source": [
    "#STD FOR monthly income \n",
    "\n",
    "#data = df['monthly_income']\n",
    "#df = pd.pd(data)\n",
    "\n",
    "std_deviation = df['monthly_income'].std()\n",
    "print(\"standard deviation:\", std_deviation)"
   ]
  },
  {
   "cell_type": "markdown",
   "id": "e2b1efd7-e835-4277-b548-451283d1c59c",
   "metadata": {},
   "source": [
    "Data points are spread out over a wider range of values, far from the mean. Meaning high variability within the dataset"
   ]
  },
  {
   "cell_type": "code",
   "execution_count": 73,
   "id": "3353a919-2453-4f61-ac5f-8c0628c72ef2",
   "metadata": {},
   "outputs": [
    {
     "name": "stdout",
     "output_type": "stream",
     "text": [
      "The IQR is: 517.5\n"
     ]
    }
   ],
   "source": [
    "q1 = df['monthly_income'].quantile(0.25)\n",
    "q3 = df['monthly_income'].quantile(0.75)\n",
    "\n",
    "iqr = q3 - q1\n",
    "print(\"The IQR is:\", iqr)"
   ]
  },
  {
   "cell_type": "code",
   "execution_count": 63,
   "id": "681ad318-678d-4102-96f3-f3503f7f3d2a",
   "metadata": {},
   "outputs": [
    {
     "name": "stdout",
     "output_type": "stream",
     "text": [
      "median: 255.0\n"
     ]
    }
   ],
   "source": [
    "food_median = df['food'].median()\n",
    "print(\"median:\", food_median)"
   ]
  },
  {
   "cell_type": "markdown",
   "id": "7ea3b646-d92a-4c43-90e4-c67aaa24cffe",
   "metadata": {},
   "source": [
    "Half the students spend below 255 on groceries while the other half spend more than 255 on groceries or food. "
   ]
  },
  {
   "cell_type": "code",
   "execution_count": 64,
   "id": "db1c6380-ae50-4a13-99ac-e4e95a545bb9",
   "metadata": {},
   "outputs": [
    {
     "name": "stdout",
     "output_type": "stream",
     "text": [
      "mode: 0    249\n",
      "Name: food, dtype: int64\n"
     ]
    }
   ],
   "source": [
    "food_mode = df['food'].mode()\n",
    "print(\"mode:\", food_mode)"
   ]
  },
  {
   "cell_type": "markdown",
   "id": "05612b1c-427c-4c0e-a991-85d9776c7245",
   "metadata": {},
   "source": [
    "Most studends spend just about 249 on food"
   ]
  },
  {
   "cell_type": "code",
   "execution_count": 65,
   "id": "59303920-10a0-4915-b6d1-d2c199ab4c33",
   "metadata": {},
   "outputs": [
    {
     "name": "stdout",
     "output_type": "stream",
     "text": [
      "mean: 252.642\n"
     ]
    }
   ],
   "source": [
    "colum_sum = df['food'].sum() \n",
    "num_rows = len(df) \n",
    "average = colum_sum/num_rows \n",
    "print(\"mean:\", average)"
   ]
  },
  {
   "cell_type": "code",
   "execution_count": 66,
   "id": "f02ad372-097e-451e-bc76-8d7aa835b7f1",
   "metadata": {},
   "outputs": [
    {
     "name": "stdout",
     "output_type": "stream",
     "text": [
      "range: 300\n"
     ]
    }
   ],
   "source": [
    "food_range = df['food'].max() - df['food'].min()\n",
    "print(\"range:\", food_range)"
   ]
  },
  {
   "cell_type": "markdown",
   "id": "cecea6df-9074-4111-b08e-38f95f763f61",
   "metadata": {},
   "source": [
    "This concludes that some studets do not get the chance to buy as much food as they need or get as many nutrients as they need as the range is a bit higher than the mode "
   ]
  },
  {
   "cell_type": "code",
   "execution_count": 74,
   "id": "f028e4f9-e18b-41b7-8578-d9d585123a14",
   "metadata": {},
   "outputs": [
    {
     "name": "stdout",
     "output_type": "stream",
     "text": [
      "The IQR is: 155.0\n"
     ]
    }
   ],
   "source": [
    "q1 = df['food'].quantile(0.25)\n",
    "q3 = df['food'].quantile(0.75)\n",
    "\n",
    "iqr = q3 - q1\n",
    "print(\"The IQR is:\", iqr)"
   ]
  },
  {
   "cell_type": "markdown",
   "id": "7648e10d-3a9f-4b1c-8f7d-4e457915834d",
   "metadata": {},
   "source": [
    "while most studnets recieve about 517p/m, they spend about 155p/m on food and 62p/m on entertaiment. This means that most student can afford their ives as most of them can be left with some disposble money."
   ]
  },
  {
   "cell_type": "code",
   "execution_count": null,
   "id": "bb63957e-5726-4ef7-a1a6-b832fee1fde0",
   "metadata": {},
   "outputs": [],
   "source": [
    "#entertainment column "
   ]
  },
  {
   "cell_type": "code",
   "execution_count": 69,
   "id": "b8017a63-6e77-41fb-a2d7-3cbf2c229fc6",
   "metadata": {},
   "outputs": [
    {
     "name": "stdout",
     "output_type": "stream",
     "text": [
      "mode: 0    129\n",
      "Name: entertainment, dtype: int64\n"
     ]
    }
   ],
   "source": [
    "entertainment_mode = df['entertainment'].mode()\n",
    "print(\"mode:\", entertainment_mode)"
   ]
  },
  {
   "cell_type": "markdown",
   "id": "a71abfda-c90b-4209-a067-52f59c8f7782",
   "metadata": {},
   "source": [
    "Most students can spend up 129 per onth on entertainment. "
   ]
  },
  {
   "cell_type": "code",
   "execution_count": 70,
   "id": "0722b287-4c2c-480a-915c-aa3fa51fe76a",
   "metadata": {},
   "outputs": [
    {
     "name": "stdout",
     "output_type": "stream",
     "text": [
      "median: 86.0\n"
     ]
    }
   ],
   "source": [
    "entertainment_median = df['entertainment'].median()\n",
    "print(\"median:\", entertainment_median)"
   ]
  },
  {
   "cell_type": "markdown",
   "id": "b9db359c-2b75-49be-bbe7-5ae6fa59cf3c",
   "metadata": {},
   "source": [
    "half the students spend more than 86 on entertainment while the other half spent below 86. "
   ]
  },
  {
   "cell_type": "code",
   "execution_count": 71,
   "id": "ce438c42-6072-45c3-b02b-2924a011c09f",
   "metadata": {},
   "outputs": [
    {
     "name": "stdout",
     "output_type": "stream",
     "text": [
      "mean: 84.814\n"
     ]
    }
   ],
   "source": [
    "colum_sum = df['entertainment'].sum() \n",
    "num_rows = len(df) \n",
    "average = colum_sum/num_rows \n",
    "print(\"mean:\", average)"
   ]
  },
  {
   "cell_type": "markdown",
   "id": "b3831515-30d5-4774-bb9f-aad5d8e14ef8",
   "metadata": {},
   "source": [
    "Thi means that most students can afford a basic lifestyle"
   ]
  },
  {
   "cell_type": "code",
   "execution_count": 72,
   "id": "0546d700-ae81-45c5-a837-fdc8d15cf1d7",
   "metadata": {},
   "outputs": [
    {
     "name": "stdout",
     "output_type": "stream",
     "text": [
      "The IQR is: 62.0\n"
     ]
    }
   ],
   "source": [
    "q1 = df['entertainment'].quantile(0.25)\n",
    "q3 = df['entertainment'].quantile(0.75)\n",
    "\n",
    "iqr = q3 - q1\n",
    "print(\"The IQR is:\", iqr)"
   ]
  },
  {
   "cell_type": "markdown",
   "id": "bdb5ed37-451e-4ef2-ab16-98a2472ad5c5",
   "metadata": {},
   "source": [
    "This is where the bulk of data lies, on 62"
   ]
  },
  {
   "cell_type": "code",
   "execution_count": 80,
   "id": "565a4ecb-49b9-431d-b31d-2303204fa1c5",
   "metadata": {},
   "outputs": [
    {
     "name": "stdout",
     "output_type": "stream",
     "text": [
      "standard deviation: 37.970451131888886\n"
     ]
    }
   ],
   "source": [
    "std_deviation = df['entertainment'].std()\n",
    "print(\"standard deviation:\", std_deviation)"
   ]
  },
  {
   "cell_type": "code",
   "execution_count": 78,
   "id": "337791bd-eaf7-40f0-8b04-0ec014cb196a",
   "metadata": {},
   "outputs": [
    {
     "name": "stdout",
     "output_type": "stream",
     "text": [
      "coeficient of variation : 28.789610678673206 %\n"
     ]
    }
   ],
   "source": [
    "#coefficient of variation for monthly income \n",
    "mean = df['monthly_income'].mean()\n",
    "std_dev = df['monthly_income'].std()\n",
    "\n",
    "cv = (std_dev/ mean) * 100\n",
    "\n",
    "print(\"coeficient of variation :\", cv,\"%\")\n"
   ]
  },
  {
   "cell_type": "markdown",
   "id": "7a109a1a-fc91-4ab1-a1b7-3b13e3c6e6dd",
   "metadata": {},
   "source": [
    "Has a low CV which then indicates less variability relative to the mean "
   ]
  },
  {
   "cell_type": "code",
   "execution_count": null,
   "id": "c3f37a41-588f-4972-a080-e86f52ce4e2f",
   "metadata": {},
   "outputs": [],
   "source": [
    "#coefficient of  variation for entertainmant\n"
   ]
  },
  {
   "cell_type": "code",
   "execution_count": 81,
   "id": "54c9791a-2e71-49ea-93c6-3dda955f30b9",
   "metadata": {},
   "outputs": [
    {
     "name": "stdout",
     "output_type": "stream",
     "text": [
      "coeficient of variation : 44.76908426897551 %\n"
     ]
    }
   ],
   "source": [
    "mean = df['entertainment'].mean()\n",
    "std_dev = df['entertainment'].std()\n",
    "\n",
    "cv = (std_dev/ mean) * 100\n",
    "\n",
    "print(\"coeficient of variation :\", cv,\"%\")\n"
   ]
  },
  {
   "cell_type": "markdown",
   "id": "20a374d4-6be6-459c-9877-5bec825b9f0e",
   "metadata": {},
   "source": [
    "Low CV which then indicate a low variabilty relative to mean. This also menas that data is more consistent"
   ]
  },
  {
   "cell_type": "code",
   "execution_count": 85,
   "id": "df62af88-f49d-45b1-ab4f-5a4271837be7",
   "metadata": {},
   "outputs": [
    {
     "ename": "TypeError",
     "evalue": "'module' object is not subscriptable",
     "output_type": "error",
     "traceback": [
      "\u001b[1;31m---------------------------------------------------------------------------\u001b[0m",
      "\u001b[1;31mTypeError\u001b[0m                                 Traceback (most recent call last)",
      "Cell \u001b[1;32mIn[85], line 2\u001b[0m\n\u001b[0;32m      1\u001b[0m \u001b[38;5;66;03m#covariance for entertainment \u001b[39;00m\n\u001b[1;32m----> 2\u001b[0m data \u001b[38;5;241m=\u001b[39m pd[\u001b[38;5;124m'\u001b[39m\u001b[38;5;124mentertainment\u001b[39m\u001b[38;5;124m'\u001b[39m]\n\u001b[0;32m      4\u001b[0m df\u001b[38;5;241m=\u001b[39mpd\u001b[38;5;241m.\u001b[39mdf(data)\n\u001b[0;32m      6\u001b[0m covariance \u001b[38;5;241m=\u001b[39m df\u001b[38;5;241m.\u001b[39mcov()\n",
      "\u001b[1;31mTypeError\u001b[0m: 'module' object is not subscriptable"
     ]
    }
   ],
   "source": [
    "#covariance for entertainment \n",
    "\n",
    "covariance = df.cov()\n",
    "\n",
    "print(\"Covariance matrix:\\n\", covariance)\n",
    "print(\"covariance between x and y:\", covariance.loc['x','y'])"
   ]
  },
  {
   "cell_type": "code",
   "execution_count": 87,
   "id": "6c007d5d-98fb-4b09-bf04-c4a1b2004fdd",
   "metadata": {},
   "outputs": [
    {
     "name": "stdout",
     "output_type": "stream",
     "text": [
      "25th percebtile: 54.0\n",
      "50th percentile (median): 86.0\n",
      "75th percentile: 116.0\n"
     ]
    }
   ],
   "source": [
    "#Percentile for entertainment\n",
    "p25 = df['entertainment'].quantile(0.25)\n",
    "p50 = df['entertainment'].quantile(0.5)\n",
    "p75 = df['entertainment'].quantile(0.75)\n",
    "\n",
    "print(f\"25th percebtile: {p25}\")\n",
    "print(f\"50th percentile (median): {p50}\")\n",
    "print(f\"75th percentile: {p75}\")\n",
    "\n",
    "                                   "
   ]
  },
  {
   "cell_type": "markdown",
   "id": "df88439f-cc2d-45b1-b758-c73da5056e35",
   "metadata": {},
   "source": [
    "most values from the 25th percentile and below are outliers, the 50th percentile splits the data into two, the data splits at 86. While the 75th percentile indicates the value below which 75% of the data lie. In this case 116"
   ]
  },
  {
   "cell_type": "code",
   "execution_count": 92,
   "id": "fb910fd6-2f69-494c-ba62-f18949fc94a7",
   "metadata": {},
   "outputs": [
    {
     "name": "stdout",
     "output_type": "stream",
     "text": [
      "Q1 (25th percentile): 54.0\n",
      "Q2 (Median): 86.0\n",
      "Q3 (75th percentile): 116.0\n"
     ]
    }
   ],
   "source": [
    "q1 = df['entertainment'].quantile(0.25)\n",
    "q2 = df['entertainment'].quantile(0.5)\n",
    "q3 = df['entertainment'].quantile(0.75)\n",
    "\n",
    "print(f\"Q1 (25th percentile): {q1}\")\n",
    "print(f\"Q2 (Median): {q2}\")\n",
    "print(f\"Q3 (75th percentile): {q3}\")\n",
    "\n"
   ]
  },
  {
   "cell_type": "code",
   "execution_count": 105,
   "id": "1b7190a8-64c4-40db-a4b5-3de18a17dac1",
   "metadata": {},
   "outputs": [
    {
     "data": {
      "image/png": "[encoded data removed]",
      "text/plain": [
       "<Figure size 1000x600 with 1 Axes>"
      ]
     },
     "metadata": {},
     "output_type": "display_data"
    }
   ],
   "source": [
    "#x = df['age']\n",
    "#y = df['monthly_income']\n",
    "\n",
    "plt.figure(figsize=(10,6))\n",
    "plt.scatter(df['monthly_income'], df['age'], color= 'blue', alpha= 0.5)\n",
    "plt.title('Age vs Monthly income')\n",
    "plt.xlabel('Monthly income')\n",
    "plt.ylabel('AGE')\n",
    "plt.grid(True)\n",
    "plt.show()"
   ]
  },
  {
   "cell_type": "markdown",
   "id": "1c863f5c-ddef-4279-8bb5-f1428a97470d",
   "metadata": {},
   "source": [
    "I do not understand this graph"
   ]
  },
  {
   "cell_type": "code",
   "execution_count": 111,
   "id": "2cb912ce-bf66-4ee9-9117-479a716ccf20",
   "metadata": {},
   "outputs": [
    {
     "data": {
      "image/png": "[encoded data removed]",
      "text/plain": [
       "<Figure size 1000x600 with 1 Axes>"
      ]
     },
     "metadata": {},
     "output_type": "display_data"
    }
   ],
   "source": [
    "age_expenses = df.groupby('age')['monthly_income'].mean().reset_index()\n",
    "plt.figure(figsize=(10,6))\n",
    "plt.bar(age_expenses['age'], age_expenses['monthly_income'], color='blue')\n",
    "plt.title('Monthly income by age')\n",
    "plt.xlabel('AGE(YEARS)')\n",
    "plt.ylabel('Monthly Income($)')\n",
    "\n",
    "plt.show()\n",
    "\n"
   ]
  },
  {
   "cell_type": "markdown",
   "id": "7952b58b-c4eb-4de8-ac5c-dbb39bfa2740",
   "metadata": {},
   "source": [
    "When it comes to this relationship 23 years old were receiving a higher monthly income compared to any other age group. 22 Year old received less monthly income. "
   ]
  },
  {
   "cell_type": "code",
   "execution_count": 114,
   "id": "3e39e5d1-89fe-4f94-9bef-67130a21508d",
   "metadata": {},
   "outputs": [
    {
     "data": {
      "text/plain": [
       "Text(0, 0.5, 'Frequency')"
      ]
     },
     "execution_count": 114,
     "metadata": {},
     "output_type": "execute_result"
    },
    {
     "data": {
      "image/png": "[encoded data removed]",
      "text/plain": [
       "<Figure size 1400x600 with 2 Axes>"
      ]
     },
     "metadata": {},
     "output_type": "display_data"
    }
   ],
   "source": [
    "plt.figure(figsize=(14, 6))\n",
    "\n",
    "\n",
    "plt.subplot(1, 2, 1)  \n",
    "plt.hist(df['age'], bins=10, color='skyblue', edgecolor='black')\n",
    "plt.title('Distribution of Ages')\n",
    "plt.xlabel('Age')\n",
    "plt.ylabel('Frequency')\n",
    "\n",
    "\n",
    "plt.subplot(1, 2, 2)  \n",
    "plt.hist(df['entertainment'], bins=10, color='lightgreen', edgecolor='black')\n",
    "plt.title('Distribution of entertainment')\n",
    "plt.xlabel('Entertainment expenses($)')\n",
    "plt.ylabel('Frequency')\n"
   ]
  },
  {
   "cell_type": "markdown",
   "id": "3cd54144-f0fd-4157-8b8c-2cb25c8d41a4",
   "metadata": {},
   "source": [
    "Most students that participated in this survey were around the ages of 25, 19 year olds were the least to participate on the survey. A large amound of students spent 120$  mostly on entertainment as shown on the histogram. "
   ]
  },
  {
   "cell_type": "markdown",
   "id": "8b881a32-c337-445b-9803-add74ea80951",
   "metadata": {},
   "source": [
    "REFLECTION\n",
    "\n",
    "The last assignment presented a unique challenge for me, primarily because I lacked a solid grasp of Excel, unlike my familiarity with Python. Reflecting on it, I recognize that my performance could have been significantly enhanced had I utilized the allocated time more effectively. Despite its perceived simplicity compared to Python, Excel's user-friendly layout and interface are visually appealing, making it seem less daunting.\r\n",
    "\r\n",
    "My comfort with Python did offer some relief since it's a tool I'm acquainted with. However, the assignment's requirements ventured into areas of Python I found both unfamiliar and intriguing. Given a choice in a professional setting between Python and Excel, my preference leans towards Python due to its unparalleled flexibility. The stark contrast between the two lies in their data manipulation capabilities; Python excels far beyond Excel in this regard, offering extensive libraries and frameworks for virtually any task imaginable.\r\n",
    "\r\n",
    "It's important to note Excel's user-friendly nature, which stands out as its major advantage. Even those new to Excel can navigate its functionalities with relative ease, a stark contrast to the setup and utilization process associated with Python, which may involve installing multiple tools for operational use. Excel becomes my go-to for quick data visualizations or checks, whereas for tasks requiring complex data manipulation and script storage, Python is my definitive choice.\r\n",
    "\r\n",
    "Given another opportunity to tackle this assignment, I would approach it differently starting earlier, selecting an alternative dataset, and leveraging educational resources like YouTube for a deeper understanding. This experience has been a profound reminder of the gaps in my programming and statistical knowledge, highlighting the need for a dedicated effort to bolster my skills in these areas for more substantive conclusions\r\n"
   ]
  },
  {
   "cell_type": "code",
   "execution_count": null,
   "id": "dd676264-dccb-4367-9c0c-774d690ab082",
   "metadata": {},
   "outputs": [],
   "source": []
  }
 ],
 "metadata": {
  "kernelspec": {
   "display_name": "Python 3 (ipykernel)",
   "language": "python",
   "name": "python3"
  },
  "language_info": {
   "codemirror_mode": {
    "name": "ipython",
    "version": 3
   },
   "file_extension": ".py",
   "mimetype": "text/x-python",
   "name": "python",
   "nbconvert_exporter": "python",
   "pygments_lexer": "ipython3",
   "version": "3.11.7"
  }
 },
 "nbformat": 4,
 "nbformat_minor": 5
}
